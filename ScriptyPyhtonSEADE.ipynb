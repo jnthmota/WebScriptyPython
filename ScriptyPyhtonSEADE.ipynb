{
 "cells": [
  {
   "cell_type": "markdown",
   "metadata": {
    "slideshow": {
     "slide_type": "slide"
    }
   },
   "source": [
    "<h2><center>SPP - SEADE Fundação Sistema Estuadual de Análise de Dados </center></h2>\n",
    "\n",
    "<h3><center>Depressão</center></h3>"
   ]
  },
  {
   "cell_type": "markdown",
   "metadata": {},
   "source": [
    "Esse código faz consulta no site SEADE Fundação Sistema Estadual de Análise de Dados, e baixa todos os arquivos com dados sobre Total de Habitantes do Estado de SP de 2015 até de 2020. Depois envia para o Google Storage.\n",
    "\n",
    "<br/>\n",
    "<br/>\n",
    "\n",
    "<img src=\"https://user-images.githubusercontent.com/21012174/109223417-4f5b0980-7799-11eb-9e9e-ab8a987411e0.png\"/>"
   ]
  },
  {
   "cell_type": "code",
   "execution_count": null,
   "metadata": {
    "scrolled": true
   },
   "outputs": [],
   "source": [
    "#!pip install selenium\n",
    "#!pip install google-cloud-storage"
   ]
  },
  {
   "cell_type": "code",
   "execution_count": null,
   "metadata": {},
   "outputs": [],
   "source": [
    "from selenium import webdriver\n",
    "from time import sleep\n",
    "import win32com.client as win32\n",
    "import glob\n",
    "import pandas as pd\n",
    "from google.cloud import storage"
   ]
  },
  {
   "cell_type": "code",
   "execution_count": null,
   "metadata": {},
   "outputs": [],
   "source": [
    "browser = webdriver.Chrome(executable_path=r\"C:\\\\chromedriver.exe\")"
   ]
  },
  {
   "cell_type": "code",
   "execution_count": null,
   "metadata": {},
   "outputs": [],
   "source": [
    "browser.get('http://www.imp.seade.gov.br/frontend/#/tabelas')"
   ]
  },
  {
   "cell_type": "code",
   "execution_count": null,
   "metadata": {},
   "outputs": [],
   "source": [
    "search = browser.find_element_by_xpath('//*[@data-reactid=\".0.1.0.0.0.1.1.0.0.0.$=1$=012=20:$1.0\"]').click()\n",
    "sleep(5)"
   ]
  },
  {
   "cell_type": "markdown",
   "metadata": {},
   "source": [
    "### Autenticação Login e Senha Site SEADE"
   ]
  },
  {
   "cell_type": "code",
   "execution_count": null,
   "metadata": {},
   "outputs": [],
   "source": [
    "username = browser.find_element_by_xpath('//*[@data-reactid=\".c.1.0.0.1:0.1.1:$input\"]')\n",
    "password = browser.find_element_by_xpath('//*[@data-reactid=\".c.1.0.0.1:0.2.1:$input\"]')\n",
    "\n",
    "username.send_keys(\"jnthmota\")\n",
    "password.send_keys(\"\")\n",
    "\n",
    "browser.find_element_by_xpath('//*[@data-reactid=\".c.1.0.0.1:1.1.1\"]').click()\n",
    "sleep(10)"
   ]
  },
  {
   "cell_type": "markdown",
   "metadata": {},
   "source": [
    "### Download database "
   ]
  },
  {
   "cell_type": "code",
   "execution_count": null,
   "metadata": {},
   "outputs": [],
   "source": [
    "download = browser.find_element_by_xpath('//*[@data-reactid=\".0.1.0.0.1.1.1.1.3\"]').click()\n",
    "sleep(5)"
   ]
  },
  {
   "cell_type": "markdown",
   "metadata": {},
   "source": [
    "### Migração da VM para Google Storage"
   ]
  },
  {
   "cell_type": "code",
   "execution_count": null,
   "metadata": {},
   "outputs": [],
   "source": [
    "storage_client = storage.Client.from_service_account_json('Projeto Integrado-0bba91483c92.json') # Autenticação do GCP\n",
    "bucket = storage_client.get_bucket('datasus_base_de_dados') # Busca o bucket\n",
    "blob = bucket.blob('NewFolder') # Cria uma nova pasta\n",
    "blob.upload_from_filename(r'C:\\Users\\BlueShift\\Downloads\\imp_2021-02-25_17-47.csv') # Faz o upload do arquivo\n",
    "bucket.rename_blob(blob, \"BaseTotalHabitanteSP.csv\") # Renomeia o arquivo"
   ]
  },
  {
   "cell_type": "markdown",
   "metadata": {},
   "source": [
    "### Finalizando a aplicação"
   ]
  },
  {
   "cell_type": "code",
   "execution_count": null,
   "metadata": {},
   "outputs": [],
   "source": [
    "browser.close()"
   ]
  }
 ],
 "metadata": {
  "kernelspec": {
   "display_name": "Python 3",
   "language": "python",
   "name": "python3"
  },
  "language_info": {
   "codemirror_mode": {
    "name": "ipython",
    "version": 3
   },
   "file_extension": ".py",
   "mimetype": "text/x-python",
   "name": "python",
   "nbconvert_exporter": "python",
   "pygments_lexer": "ipython3",
   "version": "3.8.5"
  }
 },
 "nbformat": 4,
 "nbformat_minor": 4
}
